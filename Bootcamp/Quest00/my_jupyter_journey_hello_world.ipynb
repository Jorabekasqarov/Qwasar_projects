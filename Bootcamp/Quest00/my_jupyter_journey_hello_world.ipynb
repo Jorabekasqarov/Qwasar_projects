{
 "cells": [
  {
   "cell_type": "code",
   "execution_count": 1,
   "id": "10e0af2f",
   "metadata": {},
   "outputs": [
    {
     "name": "stdout",
     "output_type": "stream",
     "text": [
      "Hello world!\n"
     ]
    }
   ],
   "source": [
    "print(\"Hello world!\")"
   ]
  },
  {
   "cell_type": "code",
   "execution_count": 2,
   "id": "35f6307f",
   "metadata": {},
   "outputs": [
    {
     "name": "stdout",
     "output_type": "stream",
     "text": [
      "\n",
      "\u001b[94m\n",
      " ██████╗ ██╗    ██╗ █████╗ ███████╗ █████╗ ██████╗    ██╗ ██████╗ \n",
      "██╔═══██╗██║    ██║██╔══██╗██╔════╝██╔══██╗██╔══██╗   ██║██╔═══██╗\n",
      "██║   ██║██║ █╗ ██║███████║███████╗███████║██████╔╝   ██║██║   ██║\n",
      "██║▄▄ ██║██║███╗██║██╔══██║╚════██║██╔══██║██╔══██╗   ██║██║   ██║\n",
      "╚██████╔╝╚███╔███╔╝██║  ██║███████║██║  ██║██║  ██║██╗██║╚██████╔╝\n",
      " ╚══▀▀═╝  ╚══╝╚══╝ ╚═╝  ╚═╝╚══════╝╚═╝  ╚═╝╚═╝  ╚═╝╚═╝╚═╝ ╚═════╝ \n",
      "\t\t\t\t\t\t\t\t\t\t\t\t\t\t\t\t\t\t\t\t\t\t\t\t\t\t\t\t\t\t\t\t \u001b[0m\n",
      "Booting Gandalf v3.2.1-c2fe00c (production)\n",
      "Loading parameters:  \u001b[32mOK\u001b[0m\n",
      "User asqarov_j connection: \u001b[32mOK\u001b[0m\n",
      "\n",
      "\n",
      "<MY_JUPYTER_JOURNEY_HELLO_WORLD>\n",
      "Directory ex01 exists: \u001b[32mOK\u001b[0m\n",
      "Pushing exercise: \u001b[32mOK\u001b[0m\n",
      "Printing your report:\n",
      "\n",
      " \u001b[97;1;40m     REPORT      \u001b[0m  \u001b[97mMY JUPYTER JOURNEY HELLO WORLD\u001b[0m \n",
      "\n",
      " Status             \u001b[91mFAILURE EXECUTION\u001b[0m              \n",
      " Execution Runtime  2.180880                       \n",
      " Score              [\u001b[32m=\u001b[0m\u001b[33m-\u001b[0m] 1/2                       \n",
      "\n",
      "\n",
      "Checks detail Report:\n",
      "\n",
      " \u001b[97;1;40m     TEST CASE 0     \u001b[0m  \u001b[92m                    SUCCESS                     \u001b[0m \n",
      "\n",
      " Input                                                                   \n",
      " Expected Output        \"my_jupyter_journey_first_notebook: file exists\" \n",
      " Expected Return Value                                                   \n",
      " Output                 \"my_jupyter_journey_first_notebook: file exists\" \n",
      " Return Value                                                            \n",
      "\n",
      "Your Stderr:\n",
      "Correction crashed: No such file or directory @ rb_sysopen - /tmp/d20221015-22-11ddxrx/solution.py\n",
      "</MY_JUPYTER_JOURNEY_HELLO_WORLD>\n"
     ]
    }
   ],
   "source": [
    "!gandalf ex01"
   ]
  },
  {
   "cell_type": "code",
   "execution_count": null,
   "id": "c92bed4d",
   "metadata": {},
   "outputs": [],
   "source": []
  }
 ],
 "metadata": {
  "kernelspec": {
   "display_name": "Python 3",
   "language": "python",
   "name": "python3"
  },
  "language_info": {
   "codemirror_mode": {
    "name": "ipython",
    "version": 3
   },
   "file_extension": ".py",
   "mimetype": "text/x-python",
   "name": "python",
   "nbconvert_exporter": "python",
   "pygments_lexer": "ipython3",
   "version": "3.6.7"
  }
 },
 "nbformat": 4,
 "nbformat_minor": 5
}
