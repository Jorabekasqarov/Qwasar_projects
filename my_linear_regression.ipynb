{
 "cells": [
  {
   "cell_type": "code",
   "execution_count": 235,
   "id": "f70ec32a",
   "metadata": {},
   "outputs": [
    {
     "name": "stdout",
     "output_type": "stream",
     "text": [
      "Requirement already satisfied: plotly in /home/docode/.pyenv/versions/3.6.7/lib/python3.6/site-packages (5.11.0)\n",
      "Requirement already satisfied: tenacity>=6.2.0 in /home/docode/.pyenv/versions/3.6.7/lib/python3.6/site-packages (from plotly) (8.1.0)\n"
     ]
    }
   ],
   "source": [
    "! pip install plotly"
   ]
  },
  {
   "cell_type": "code",
   "execution_count": 236,
   "id": "7cb94417",
   "metadata": {},
   "outputs": [
    {
     "name": "stdout",
     "output_type": "stream",
     "text": [
      "Requirement already satisfied: scikit-learn in /home/docode/.pyenv/versions/3.6.7/lib/python3.6/site-packages (0.24.2)\n",
      "Requirement already satisfied: numpy>=1.13.3 in /home/docode/.pyenv/versions/3.6.7/lib/python3.6/site-packages (from scikit-learn) (1.19.5)\n",
      "Requirement already satisfied: threadpoolctl>=2.0.0 in /home/docode/.pyenv/versions/3.6.7/lib/python3.6/site-packages (from scikit-learn) (3.1.0)\n",
      "Requirement already satisfied: joblib>=0.11 in /home/docode/.pyenv/versions/3.6.7/lib/python3.6/site-packages (from scikit-learn) (1.1.1)\n",
      "Requirement already satisfied: scipy>=0.19.1 in /home/docode/.pyenv/versions/3.6.7/lib/python3.6/site-packages (from scikit-learn) (1.5.4)\n",
      "Requirement already satisfied: scikit-learn in /home/docode/.pyenv/versions/3.6.7/lib/python3.6/site-packages (0.24.2)\n",
      "Requirement already satisfied: threadpoolctl>=2.0.0 in /home/docode/.pyenv/versions/3.6.7/lib/python3.6/site-packages (from scikit-learn) (3.1.0)\n",
      "Requirement already satisfied: scipy>=0.19.1 in /home/docode/.pyenv/versions/3.6.7/lib/python3.6/site-packages (from scikit-learn) (1.5.4)\n",
      "Requirement already satisfied: joblib>=0.11 in /home/docode/.pyenv/versions/3.6.7/lib/python3.6/site-packages (from scikit-learn) (1.1.1)\n",
      "Requirement already satisfied: numpy>=1.13.3 in /home/docode/.pyenv/versions/3.6.7/lib/python3.6/site-packages (from scikit-learn) (1.19.5)\n"
     ]
    }
   ],
   "source": [
    "!pip install -U scikit-learn\n",
    "!pip install scikit-learn"
   ]
  },
  {
   "cell_type": "code",
   "execution_count": 237,
   "id": "9d585e67",
   "metadata": {},
   "outputs": [],
   "source": [
    "import numpy as np\n",
    "import matplotlib.pyplot as plt\n",
    "import plotly.graph_objects as go\n",
    "import mpl_toolkits.mplot3d as axes3d\n",
    "from sklearn.metrics import mean_squared_error\n",
    "from matplotlib import cm"
   ]
  },
  {
   "cell_type": "code",
   "execution_count": 238,
   "id": "3bb0d7bf",
   "metadata": {},
   "outputs": [
    {
     "data": {
      "text/plain": [
       "[<matplotlib.lines.Line2D at 0x7ff703c92b70>]"
      ]
     },
     "execution_count": 238,
     "metadata": {},
     "output_type": "execute_result"
    },
    {
     "data": {
      "image/png": "[encoded data removed]",
      "text/plain": [
       "<Figure size 432x288 with 1 Axes>"
      ]
     },
     "metadata": {
      "needs_background": "light"
     },
     "output_type": "display_data"
    }
   ],
   "source": [
    "x = np.arange(-10,10)\n",
    "y = 1 + 2 * x\n",
    "y2 = 1 + 1000 * x\n",
    "plt.plot(x,y)\n"
   ]
  },
  {
   "cell_type": "code",
   "execution_count": 239,
   "id": "66dff1d1",
   "metadata": {},
   "outputs": [
    {
     "name": "stdout",
     "output_type": "stream",
     "text": [
      "21.57240022781645\n"
     ]
    },
    {
     "data": {
      "image/png": "[encoded data removed]",
      "text/plain": [
       "<Figure size 432x288 with 1 Axes>"
      ]
     },
     "metadata": {
      "needs_background": "light"
     },
     "output_type": "display_data"
    }
   ],
   "source": [
    "hand = np.random.random(20)*8\n",
    "y = 1 + 2 * (x+hand)\n",
    "y_predic = 5.5 + 2 * x\n",
    "\n",
    "print(mean_squared_error(y,y_predic))\n",
    "plt.scatter(x,y)\n",
    "plt.plot(x,y_predic,'r')\n",
    "plt.show()"
   ]
  },
  {
   "cell_type": "code",
   "execution_count": 240,
   "id": "b1c3873c",
   "metadata": {},
   "outputs": [],
   "source": [
    "def h(x,theta):\n",
    "    return [[i] for i in np.dot(x, theta)]"
   ]
  },
  {
   "cell_type": "code",
   "execution_count": 241,
   "id": "2068caba",
   "metadata": {},
   "outputs": [],
   "source": [
    "def mean_squarred_error(y_predicted, y_label):\n",
    "    return np.sum((y_predicted - y_label) **2) / len(y_label)"
   ]
  },
  {
   "cell_type": "code",
   "execution_count": 242,
   "id": "68ae2e29",
   "metadata": {},
   "outputs": [],
   "source": [
    "class LeastSquaresRegression():\n",
    "    import matplotlib.pyplot as plt\n",
    "\n",
    "    \n",
    "    \n",
    "    def __init__(self):\n",
    "        \n",
    "        self.theta_ = None \n",
    "\n",
    "    def fit(self, X, y):\n",
    "        # X = 4 * np.random.rand(100, 1)\n",
    "        # y = 10 + 2 * X + np.random.randn(100, 1)\n",
    "        self.theta_ = np.linalg.inv(X.T.dot(X)).dot(X.T).dot(y)\n",
    "\n",
    "      \n",
    "        # self = w\n",
    " # Return the classifier\n",
    "        # return w\n",
    "\n",
    "    def predict(self, X):\n",
    "        # y_pred = np.dot(X, w[0])\n",
    "        return h(X, self.theta_)\n",
    "        # return self.y_pred[closest]"
   ]
  },
  {
   "cell_type": "code",
   "execution_count": 243,
   "id": "d23190a9",
   "metadata": {},
   "outputs": [
    {
     "name": "stdout",
     "output_type": "stream",
     "text": [
      "[[1.78397868]\n",
      " [0.08822398]\n",
      " [2.53656401]\n",
      " [2.66734733]\n",
      " [3.35225478]]\n",
      " ---- \n",
      "[[1.         1.78397868]\n",
      " [1.         0.08822398]\n",
      " [1.         2.53656401]\n",
      " [1.         2.66734733]\n",
      " [1.         3.35225478]]\n"
     ]
    }
   ],
   "source": [
    "import numpy as np\n",
    "import matplotlib.pyplot as plt\n",
    "\n",
    "X = 4 * np.random.rand(100, 1)\n",
    "y = 10 + 2 * X + np.random.randn(100, 1)\n",
    "def bias_column(X):\n",
    "    # X = 4 * np.random.rand(100, 1)\n",
    "    return np.hstack((np.ones((np.size(X, 0), 1)),X))\n",
    "\n",
    "    \n",
    "#X_new = eg.bias_column(X)\n",
    "X_new = bias_column(X)\n",
    "\n",
    "print(X[:5])\n",
    "print(\" ---- \")\n",
    "print(X_new[:5])"
   ]
  },
  {
   "cell_type": "code",
   "execution_count": 244,
   "id": "b82a9be1",
   "metadata": {},
   "outputs": [
    {
     "data": {
      "text/plain": [
       "array([[5.56647617]])"
      ]
     },
     "execution_count": 244,
     "metadata": {},
     "output_type": "execute_result"
    }
   ],
   "source": [
    "model = LeastSquaresRegression()\n",
    "model.fit(X,y)\n",
    "model.theta_"
   ]
  },
  {
   "cell_type": "code",
   "execution_count": 245,
   "id": "1c66e30d",
   "metadata": {},
   "outputs": [
    {
     "data": {
      "text/plain": [
       "<matplotlib.collections.PathCollection at 0x7ff703b6cd68>"
      ]
     },
     "execution_count": 245,
     "metadata": {},
     "output_type": "execute_result"
    },
    {
     "data": {
      "image/png": "[encoded data removed]",
      "text/plain": [
       "<Figure size 432x288 with 1 Axes>"
      ]
     },
     "metadata": {
      "needs_background": "light"
     },
     "output_type": "display_data"
    }
   ],
   "source": [
    "xx = 4 * np.random.rand(100,1)\n",
    "y = 10+2*xx+np.random.randn(100,1)\n",
    "plt.scatter(xx,y)"
   ]
  },
  {
   "cell_type": "code",
   "execution_count": 246,
   "id": "21b92075",
   "metadata": {},
   "outputs": [],
   "source": [
    "X = np.append(np.ones((100,1)),xx,axis=1)"
   ]
  },
  {
   "cell_type": "code",
   "execution_count": 247,
   "id": "42aae6fb",
   "metadata": {},
   "outputs": [
    {
     "data": {
      "text/plain": [
       "array([[9.97490192],\n",
       "       [2.07241996]])"
      ]
     },
     "execution_count": 247,
     "metadata": {},
     "output_type": "execute_result"
    }
   ],
   "source": [
    "model = LeastSquaresRegression()\n",
    "model.fit(X,y)\n",
    "model.theta_"
   ]
  },
  {
   "cell_type": "code",
   "execution_count": 248,
   "id": "1c695fad",
   "metadata": {},
   "outputs": [
    {
     "ename": "ValueError",
     "evalue": "x and y can be no greater than 2-D, but have shapes (100,) and (100, 1, 1)",
     "output_type": "error",
     "traceback": [
      "\u001b[0;31m---------------------------------------------------------------------------\u001b[0m",
      "\u001b[0;31mValueError\u001b[0m                                Traceback (most recent call last)",
      "\u001b[0;32m<ipython-input-248-e1bc1bd3c849>\u001b[0m in \u001b[0;36m<module>\u001b[0;34m\u001b[0m\n\u001b[1;32m      3\u001b[0m \u001b[0my_p\u001b[0m \u001b[0;34m=\u001b[0m \u001b[0;36m10\u001b[0m\u001b[0;34m+\u001b[0m\u001b[0;36m2\u001b[0m\u001b[0;34m*\u001b[0m\u001b[0mxx\u001b[0m\u001b[0;34m\u001b[0m\u001b[0;34m\u001b[0m\u001b[0m\n\u001b[1;32m      4\u001b[0m \u001b[0mplt\u001b[0m\u001b[0;34m.\u001b[0m\u001b[0mscatter\u001b[0m\u001b[0;34m(\u001b[0m\u001b[0mxx\u001b[0m\u001b[0;34m,\u001b[0m\u001b[0my\u001b[0m\u001b[0;34m)\u001b[0m\u001b[0;34m\u001b[0m\u001b[0;34m\u001b[0m\u001b[0m\n\u001b[0;32m----> 5\u001b[0;31m \u001b[0mplt\u001b[0m\u001b[0;34m.\u001b[0m\u001b[0mplot\u001b[0m\u001b[0;34m(\u001b[0m\u001b[0mX\u001b[0m\u001b[0;34m[\u001b[0m\u001b[0;34m:\u001b[0m\u001b[0;34m,\u001b[0m\u001b[0;36m1\u001b[0m\u001b[0;34m]\u001b[0m\u001b[0;34m,\u001b[0m\u001b[0my_predic\u001b[0m\u001b[0;34m,\u001b[0m\u001b[0;34m'r'\u001b[0m\u001b[0;34m)\u001b[0m\u001b[0;34m\u001b[0m\u001b[0;34m\u001b[0m\u001b[0m\n\u001b[0m\u001b[1;32m      6\u001b[0m \u001b[0mplt\u001b[0m\u001b[0;34m.\u001b[0m\u001b[0mplot\u001b[0m\u001b[0;34m(\u001b[0m\u001b[0mxx\u001b[0m\u001b[0;34m,\u001b[0m\u001b[0my_p\u001b[0m\u001b[0;34m,\u001b[0m\u001b[0;34m'g'\u001b[0m\u001b[0;34m)\u001b[0m\u001b[0;34m\u001b[0m\u001b[0;34m\u001b[0m\u001b[0m\n",
      "\u001b[0;32m~/.pyenv/versions/3.6.7/lib/python3.6/site-packages/matplotlib/pyplot.py\u001b[0m in \u001b[0;36mplot\u001b[0;34m(scalex, scaley, data, *args, **kwargs)\u001b[0m\n\u001b[1;32m   2840\u001b[0m     return gca().plot(\n\u001b[1;32m   2841\u001b[0m         \u001b[0;34m*\u001b[0m\u001b[0margs\u001b[0m\u001b[0;34m,\u001b[0m \u001b[0mscalex\u001b[0m\u001b[0;34m=\u001b[0m\u001b[0mscalex\u001b[0m\u001b[0;34m,\u001b[0m \u001b[0mscaley\u001b[0m\u001b[0;34m=\u001b[0m\u001b[0mscaley\u001b[0m\u001b[0;34m,\u001b[0m\u001b[0;34m\u001b[0m\u001b[0;34m\u001b[0m\u001b[0m\n\u001b[0;32m-> 2842\u001b[0;31m         **({\"data\": data} if data is not None else {}), **kwargs)\n\u001b[0m\u001b[1;32m   2843\u001b[0m \u001b[0;34m\u001b[0m\u001b[0m\n\u001b[1;32m   2844\u001b[0m \u001b[0;34m\u001b[0m\u001b[0m\n",
      "\u001b[0;32m~/.pyenv/versions/3.6.7/lib/python3.6/site-packages/matplotlib/axes/_axes.py\u001b[0m in \u001b[0;36mplot\u001b[0;34m(self, scalex, scaley, data, *args, **kwargs)\u001b[0m\n\u001b[1;32m   1741\u001b[0m         \"\"\"\n\u001b[1;32m   1742\u001b[0m         \u001b[0mkwargs\u001b[0m \u001b[0;34m=\u001b[0m \u001b[0mcbook\u001b[0m\u001b[0;34m.\u001b[0m\u001b[0mnormalize_kwargs\u001b[0m\u001b[0;34m(\u001b[0m\u001b[0mkwargs\u001b[0m\u001b[0;34m,\u001b[0m \u001b[0mmlines\u001b[0m\u001b[0;34m.\u001b[0m\u001b[0mLine2D\u001b[0m\u001b[0;34m)\u001b[0m\u001b[0;34m\u001b[0m\u001b[0;34m\u001b[0m\u001b[0m\n\u001b[0;32m-> 1743\u001b[0;31m         \u001b[0mlines\u001b[0m \u001b[0;34m=\u001b[0m \u001b[0;34m[\u001b[0m\u001b[0;34m*\u001b[0m\u001b[0mself\u001b[0m\u001b[0;34m.\u001b[0m\u001b[0m_get_lines\u001b[0m\u001b[0;34m(\u001b[0m\u001b[0;34m*\u001b[0m\u001b[0margs\u001b[0m\u001b[0;34m,\u001b[0m \u001b[0mdata\u001b[0m\u001b[0;34m=\u001b[0m\u001b[0mdata\u001b[0m\u001b[0;34m,\u001b[0m \u001b[0;34m**\u001b[0m\u001b[0mkwargs\u001b[0m\u001b[0;34m)\u001b[0m\u001b[0;34m]\u001b[0m\u001b[0;34m\u001b[0m\u001b[0;34m\u001b[0m\u001b[0m\n\u001b[0m\u001b[1;32m   1744\u001b[0m         \u001b[0;32mfor\u001b[0m \u001b[0mline\u001b[0m \u001b[0;32min\u001b[0m \u001b[0mlines\u001b[0m\u001b[0;34m:\u001b[0m\u001b[0;34m\u001b[0m\u001b[0;34m\u001b[0m\u001b[0m\n\u001b[1;32m   1745\u001b[0m             \u001b[0mself\u001b[0m\u001b[0;34m.\u001b[0m\u001b[0madd_line\u001b[0m\u001b[0;34m(\u001b[0m\u001b[0mline\u001b[0m\u001b[0;34m)\u001b[0m\u001b[0;34m\u001b[0m\u001b[0;34m\u001b[0m\u001b[0m\n",
      "\u001b[0;32m~/.pyenv/versions/3.6.7/lib/python3.6/site-packages/matplotlib/axes/_base.py\u001b[0m in \u001b[0;36m__call__\u001b[0;34m(self, data, *args, **kwargs)\u001b[0m\n\u001b[1;32m    271\u001b[0m                 \u001b[0mthis\u001b[0m \u001b[0;34m+=\u001b[0m \u001b[0margs\u001b[0m\u001b[0;34m[\u001b[0m\u001b[0;36m0\u001b[0m\u001b[0;34m]\u001b[0m\u001b[0;34m,\u001b[0m\u001b[0;34m\u001b[0m\u001b[0;34m\u001b[0m\u001b[0m\n\u001b[1;32m    272\u001b[0m                 \u001b[0margs\u001b[0m \u001b[0;34m=\u001b[0m \u001b[0margs\u001b[0m\u001b[0;34m[\u001b[0m\u001b[0;36m1\u001b[0m\u001b[0;34m:\u001b[0m\u001b[0;34m]\u001b[0m\u001b[0;34m\u001b[0m\u001b[0;34m\u001b[0m\u001b[0m\n\u001b[0;32m--> 273\u001b[0;31m             \u001b[0;32myield\u001b[0m \u001b[0;32mfrom\u001b[0m \u001b[0mself\u001b[0m\u001b[0;34m.\u001b[0m\u001b[0m_plot_args\u001b[0m\u001b[0;34m(\u001b[0m\u001b[0mthis\u001b[0m\u001b[0;34m,\u001b[0m \u001b[0mkwargs\u001b[0m\u001b[0;34m)\u001b[0m\u001b[0;34m\u001b[0m\u001b[0;34m\u001b[0m\u001b[0m\n\u001b[0m\u001b[1;32m    274\u001b[0m \u001b[0;34m\u001b[0m\u001b[0m\n\u001b[1;32m    275\u001b[0m     \u001b[0;32mdef\u001b[0m \u001b[0mget_next_color\u001b[0m\u001b[0;34m(\u001b[0m\u001b[0mself\u001b[0m\u001b[0;34m)\u001b[0m\u001b[0;34m:\u001b[0m\u001b[0;34m\u001b[0m\u001b[0;34m\u001b[0m\u001b[0m\n",
      "\u001b[0;32m~/.pyenv/versions/3.6.7/lib/python3.6/site-packages/matplotlib/axes/_base.py\u001b[0m in \u001b[0;36m_plot_args\u001b[0;34m(self, tup, kwargs)\u001b[0m\n\u001b[1;32m    400\u001b[0m                              f\"have shapes {x.shape} and {y.shape}\")\n\u001b[1;32m    401\u001b[0m         \u001b[0;32mif\u001b[0m \u001b[0mx\u001b[0m\u001b[0;34m.\u001b[0m\u001b[0mndim\u001b[0m \u001b[0;34m>\u001b[0m \u001b[0;36m2\u001b[0m \u001b[0;32mor\u001b[0m \u001b[0my\u001b[0m\u001b[0;34m.\u001b[0m\u001b[0mndim\u001b[0m \u001b[0;34m>\u001b[0m \u001b[0;36m2\u001b[0m\u001b[0;34m:\u001b[0m\u001b[0;34m\u001b[0m\u001b[0;34m\u001b[0m\u001b[0m\n\u001b[0;32m--> 402\u001b[0;31m             raise ValueError(f\"x and y can be no greater than 2-D, but have \"\n\u001b[0m\u001b[1;32m    403\u001b[0m                              f\"shapes {x.shape} and {y.shape}\")\n\u001b[1;32m    404\u001b[0m         \u001b[0;32mif\u001b[0m \u001b[0mx\u001b[0m\u001b[0;34m.\u001b[0m\u001b[0mndim\u001b[0m \u001b[0;34m==\u001b[0m \u001b[0;36m1\u001b[0m\u001b[0;34m:\u001b[0m\u001b[0;34m\u001b[0m\u001b[0;34m\u001b[0m\u001b[0m\n",
      "\u001b[0;31mValueError\u001b[0m: x and y can be no greater than 2-D, but have shapes (100,) and (100, 1, 1)"
     ]
    },
    {
     "data": {
      "image/png": "[encoded data removed]",
      "text/plain": [
       "<Figure size 432x288 with 1 Axes>"
      ]
     },
     "metadata": {
      "needs_background": "light"
     },
     "output_type": "display_data"
    }
   ],
   "source": [
    "y_predic = model.predict(X)\n",
    "\n",
    "y_p = 10+2*xx\n",
    "plt.scatter(xx,y)\n",
    "plt.plot(X[:,1],y_predic,'r')\n",
    "plt.plot(xx,y_p,'g')"
   ]
  },
  {
   "cell_type": "code",
   "execution_count": 249,
   "id": "07991272",
   "metadata": {},
   "outputs": [],
   "source": [
    "def h(x,theta):\n",
    "    return [[i] for i in np.dot(x, theta)]"
   ]
  },
  {
   "cell_type": "code",
   "execution_count": 250,
   "id": "20729869",
   "metadata": {},
   "outputs": [],
   "source": [
    "class GradientDescentOptimizer():\n",
    "\n",
    "    def __init__(self, f, fprime, start, learning_rate = 0.1):\n",
    "        self.f_      = f                       # The function\n",
    "        self.fprime_ = fprime                  # The gradient of f\n",
    "        self.current_ = start                  # The current point being evaluated\n",
    "        self.learning_rate_ = learning_rate    # Does this need a comment ?\n",
    "\n",
    "        # Save history as attributes\n",
    "        self.history_ = [start]\n",
    "    \n",
    "    def step(self):\n",
    "        for _ in range(100):\n",
    "            self.current_ = start - learning_rate * fprime(start)\n",
    "            self.history_ = self.history_.add(self.current_)\n",
    "        # Take a gradient descent step\n",
    "        # 1. Compute the new value and update self.current_\n",
    "        # 2. Append the new value to history\n",
    "        # Does not return anything\n",
    "\n",
    "        \n",
    "        \n",
    "    def optimize(self, iterations = 100):\n",
    "        for i in range(iterations):\n",
    "            return i\n",
    "            \n",
    "        # Use the gradient descent to get closer to the minimum:\n",
    "        # For each iteration, take a gradient step\n",
    "\n",
    "    def getCurrentValue(self):\n",
    "        return  [0.2 for x in self.current_]\n",
    "                            \n",
    "      # Getter for current_\n",
    "\n",
    "    def print_result(self):\n",
    "        print(\"Best theta found is \" + str(self.current_))\n",
    "        print(\"Value of f at this theta: f(theta) = \" + str(self.f_(self.current_)))\n",
    "        print(\"Value of f prime at this theta: f'(theta) = \" + str(self.fprime_(self.current_)))\n",
    "        return self.history_"
   ]
  },
  {
   "cell_type": "code",
   "execution_count": null,
   "id": "76c34297",
   "metadata": {},
   "outputs": [],
   "source": []
  },
  {
   "cell_type": "code",
   "execution_count": 251,
   "id": "29935339",
   "metadata": {},
   "outputs": [
    {
     "name": "stdout",
     "output_type": "stream",
     "text": [
      "Best theta found is [-2.33931167  0.38918932]\n",
      "Value of f at this theta: f(theta) = [[21.82962578 27.34705626]\n",
      " [27.34705626 34.48119647]]\n",
      "Value of f prime at this theta: f'(theta) = [[ -8.67862334  -3.22162136]\n",
      " [-16.67862334 -11.22162136]]\n"
     ]
    },
    {
     "data": {
      "text/plain": [
       "[array([-2.33931167,  0.38918932])]"
      ]
     },
     "execution_count": 251,
     "metadata": {},
     "output_type": "execute_result"
    }
   ],
   "source": [
    "def f(x):\n",
    "    return 3 + np.dot((np.squeeze(np.asarray(x)) - np.array([[2], [6]]).T).T, np.squeeze(np.asarray(x)) - np.array([[2], [6]]).T)\n",
    "def fprime(x):\n",
    "    return 2 * (x - np.array([[2], [6]]))\n",
    "\n",
    "\n",
    "grad = GradientDescentOptimizer(f, fprime, np.random.normal(size=(2,)), 0.1)\n",
    "grad.optimize(10)\n",
    "grad.print_result()"
   ]
  },
  {
   "cell_type": "code",
   "execution_count": 252,
   "id": "c9567ddf",
   "metadata": {},
   "outputs": [
    {
     "data": {
      "text/plain": [
       "[<matplotlib.lines.Line2D at 0x7ff703a9c358>]"
      ]
     },
     "execution_count": 252,
     "metadata": {},
     "output_type": "execute_result"
    },
    {
     "data": {
      "image/png": "[encoded data removed]",
      "text/plain": [
       "<Figure size 432x288 with 1 Axes>"
      ]
     },
     "metadata": {
      "needs_background": "light"
     },
     "output_type": "display_data"
    }
   ],
   "source": [
    "plt.plot(x_iteratsion[0,:])\n",
    "plt.plot(x_iteratsion[1,:])"
   ]
  },
  {
   "cell_type": "code",
   "execution_count": 253,
   "id": "d362ae18",
   "metadata": {},
   "outputs": [],
   "source": [
    "grad_x = x_iteratsion[0,:]\n",
    "grad_y = x_iteratsion[1,:]\n",
    "# grad_z = np.diagonal(f(x_iteratsion))"
   ]
  },
  {
   "cell_type": "code",
   "execution_count": 254,
   "id": "453e5434",
   "metadata": {},
   "outputs": [
    {
     "data": {
      "text/plain": [
       "<matplotlib.collections.PathCollection at 0x7ff704103ef0>"
      ]
     },
     "execution_count": 254,
     "metadata": {},
     "output_type": "execute_result"
    },
    {
     "data": {
      "image/png": "[encoded data removed]",
      "text/plain": [
       "<Figure size 432x288 with 1 Axes>"
      ]
     },
     "metadata": {
      "needs_background": "light"
     },
     "output_type": "display_data"
    }
   ],
   "source": [
    "X = 4 * np.random.rand(100, 1)\n",
    "y = 10 + 2 * X + np.random.randn(100,1)\n",
    "plt.scatter(X, y)"
   ]
  },
  {
   "cell_type": "code",
   "execution_count": 255,
   "id": "6c6e1d6e",
   "metadata": {},
   "outputs": [],
   "source": [
    "theta_start = np.random.randn(2,1)\n",
    "def gradient_descent(X, m, y, theta_start, iterations = 100, learning_rate = 0.1):\n",
    "    history = theta_start\n",
    "    theta = theta_start\n",
    "    iters = 0\n",
    "    while iters < iterations:\n",
    "        part_1 = np.dot(X, theta)\n",
    "        part_2 = part_1 - y\n",
    "        MSE_Prime = 2/m * np.dot(X.T, part_2)\n",
    "        theta = theta - learning_rate * MSE_Prime\n",
    "        iters += 1\n",
    "    return theta\n",
    "def h(X, theta):\n",
    "    return np.dot(X, theta)"
   ]
  },
  {
   "cell_type": "code",
   "execution_count": 256,
   "id": "a97c3d2f",
   "metadata": {},
   "outputs": [
    {
     "name": "stdout",
     "output_type": "stream",
     "text": [
      "\n",
      "\u001b[94m\n",
      " ██████╗ ██╗    ██╗ █████╗ ███████╗ █████╗ ██████╗    ██╗ ██████╗ \n",
      "██╔═══██╗██║    ██║██╔══██╗██╔════╝██╔══██╗██╔══██╗   ██║██╔═══██╗\n",
      "██║   ██║██║ █╗ ██║███████║███████╗███████║██████╔╝   ██║██║   ██║\n",
      "██║▄▄ ██║██║███╗██║██╔══██║╚════██║██╔══██║██╔══██╗   ██║██║   ██║\n",
      "╚██████╔╝╚███╔███╔╝██║  ██║███████║██║  ██║██║  ██║██╗██║╚██████╔╝\n",
      " ╚══▀▀═╝  ╚══╝╚══╝ ╚═╝  ╚═╝╚══════╝╚═╝  ╚═╝╚═╝  ╚═╝╚═╝╚═╝ ╚═════╝ \n",
      "\t\t\t\t\t\t\t\t\t\t\t\t\t\t\t\t\t\t\t\t\t\t\t\t\t\t\t\t\t\t\t\t \u001b[0m\n",
      "Booting Gandalf v3.2.1-c2fe00c (production)\n",
      "Loading parameters:  \u001b[32mOK\u001b[0m\n",
      "User asqarov_j connection: \u001b[32mOK\u001b[0m\n",
      "\n",
      "\n",
      "<MY_LINEAR_REGRESSION>\n",
      "Directory . exists: \u001b[32mOK\u001b[0m\n",
      "Pushing exercise: \u001b[32mOK\u001b[0m\n",
      "Printing your report:\n",
      "\n",
      " \u001b[97;1;40m     REPORT      \u001b[0m  \u001b[97mMY LINEAR REGRESSION\u001b[0m \n",
      "\n",
      " Status             \u001b[92mSUCCESS\u001b[0m              \n",
      " Execution Runtime  3.475292             \n",
      " Score              [\u001b[32m=\u001b[0m\u001b[32m=\u001b[0m\u001b[32m=\u001b[0m\u001b[32m=\u001b[0m\u001b[32m=\u001b[0m\u001b[32m=\u001b[0m\u001b[32m=\u001b[0m\u001b[32m=\u001b[0m\u001b[33m-\u001b[0m\u001b[33m-\u001b[0m] 8/10    \n",
      "\n",
      "\n",
      "Checks detail Report:\n",
      "\n",
      " \u001b[97;1;40mTEST BIAS COLUMN I\u001b[0m  \u001b[92mSUCCESS\u001b[0m \n",
      "\n",
      "\n",
      "\n",
      " \u001b[97;1;40mTEST BIAS COLUMN II\u001b[0m  \u001b[92mSUCCESS\u001b[0m \n",
      "\n",
      "\n",
      "\n",
      " \u001b[97;1;40mTEST CLASS GRADIENT DESCENT OPTIMIZER\u001b[0m  \u001b[91m                                                  FAILURE                                                  \u001b[0m \n",
      "\n",
      " Input                                                                                                                                              \n",
      " Expected Output                        \"\"                                                                                                          \n",
      " Expected Return Value                                                                                                                              \n",
      " Output                                     def test_class_gradient_descent_optimizer(self):                                                        \n",
      "                                                gdo = eg.GradientDescentOptimizer(TestAgent.f, TestAgent.f_prime, np.random.normal(size=(2,)), 0.1) \n",
      "                                                                                                                                                    \n",
      "                                                gdo.optimize(10)                                                                                    \n",
      "                                                user_values = gdo.getCurrentValue()                                                                 \n",
      "                                                                                                                                                    \n",
      "                                                self.assertTrue(1.5 < user_values[0])                                                               \n",
      "                                                self.assertTrue(user_values[0] < 1.9)                                                               \n",
      "                                                self.assertTrue(5.0 < user_values[1])                                                               \n",
      "                                                self.assertTrue(user_values[1] < 5.5)                                                               \n",
      "                                                                                                                                                    \n",
      " Return Value                                                                                                                                       \n",
      "\n",
      "Your Stderr:\n",
      "False is not true\n",
      "\n",
      " \u001b[97;1;40mTEST CLASS GRADIENT DESCENT OPTIMIZER I\u001b[0m  \u001b[92mSUCCESS\u001b[0m \n",
      "\n",
      "\n",
      "\n",
      " \u001b[97;1;40mTEST CLASS LEAST SQUARES REGRESSION\u001b[0m  \u001b[92mSUCCESS\u001b[0m \n",
      "\n",
      "\n",
      "\n",
      " \u001b[97;1;40mTEST CLASS LEAST SQUARES REGRESSION PREDICT\u001b[0m  \u001b[92mSUCCESS\u001b[0m \n",
      "\n",
      "\n",
      "\n",
      " \u001b[97;1;40mTEST H FUNCTION I\u001b[0m  \u001b[92mSUCCESS\u001b[0m \n",
      "\n",
      "\n",
      "\n",
      " \u001b[97;1;40m TEST H FUNCTION II  \u001b[0m  \u001b[91m                                 FAILURE                                 \u001b[0m \n",
      "\n",
      " Input                                                                                            \n",
      " Expected Output        \"\"                                                                        \n",
      " Expected Return Value                                                                            \n",
      " Output                     def test_h_function_II(self):                                         \n",
      "                                x = np.array([[1,1],[1,2],[1,3]])                                 \n",
      "                                theta = np.array([1,2])                                           \n",
      "                                y_predicted = eg.h(x,theta)                                       \n",
      "                                                                                                  \n",
      "                                self.assertTrue((y_predicted == np.array([[3], [5], [7]])).all()) \n",
      "                                                                                                  \n",
      " Return Value                                                                                     \n",
      "\n",
      "Your Stderr:\n",
      "False is not true\n",
      "\n",
      " \u001b[97;1;40mTEST MEAN SQUARED ERROR I\u001b[0m  \u001b[92mSUCCESS\u001b[0m \n",
      "\n",
      "\n",
      "\n",
      " \u001b[97;1;40mTEST MEAN SQUARED ERROR II\u001b[0m  \u001b[92mSUCCESS\u001b[0m \n",
      "\n",
      "\n",
      "</MY_LINEAR_REGRESSION>\n"
     ]
    }
   ],
   "source": [
    "!gandalf"
   ]
  },
  {
   "cell_type": "code",
   "execution_count": null,
   "id": "59964dc5",
   "metadata": {},
   "outputs": [],
   "source": []
  }
 ],
 "metadata": {
  "kernelspec": {
   "display_name": "Python 3",
   "language": "python",
   "name": "python3"
  },
  "language_info": {
   "codemirror_mode": {
    "name": "ipython",
    "version": 3
   },
   "file_extension": ".py",
   "mimetype": "text/x-python",
   "name": "python",
   "nbconvert_exporter": "python",
   "pygments_lexer": "ipython3",
   "version": "3.6.7"
  }
 },
 "nbformat": 4,
 "nbformat_minor": 5
}
